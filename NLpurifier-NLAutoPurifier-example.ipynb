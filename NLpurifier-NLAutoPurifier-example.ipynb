{
 "cells": [
  {
   "cell_type": "code",
   "execution_count": 6,
   "metadata": {},
   "outputs": [],
   "source": [
    "import pandas as pd\n",
    "import numpy as np\n",
    "import datapurifier as dp\n",
    "from datapurifier import Nlpurifier, NLAutoPurifier"
   ]
  },
  {
   "cell_type": "code",
   "execution_count": 7,
   "metadata": {},
   "outputs": [
    {
     "data": {
      "text/html": [
       "<div>\n",
       "<style scoped>\n",
       "    .dataframe tbody tr th:only-of-type {\n",
       "        vertical-align: middle;\n",
       "    }\n",
       "\n",
       "    .dataframe tbody tr th {\n",
       "        vertical-align: top;\n",
       "    }\n",
       "\n",
       "    .dataframe thead th {\n",
       "        text-align: right;\n",
       "    }\n",
       "</style>\n",
       "<table border=\"1\" class=\"dataframe\">\n",
       "  <thead>\n",
       "    <tr style=\"text-align: right;\">\n",
       "      <th></th>\n",
       "      <th>examples</th>\n",
       "    </tr>\n",
       "  </thead>\n",
       "  <tbody>\n",
       "    <tr>\n",
       "      <th>0</th>\n",
       "      <td>ALL UPPERCASE LETTERS</td>\n",
       "    </tr>\n",
       "    <tr>\n",
       "      <th>1</th>\n",
       "      <td>@special #characters with punctuations! ?</td>\n",
       "    </tr>\n",
       "    <tr>\n",
       "      <th>2</th>\n",
       "      <td>having   multiple   spaces</td>\n",
       "    </tr>\n",
       "    <tr>\n",
       "      <th>3</th>\n",
       "      <td>&lt;html&gt;text under html tag&lt;/html&gt;</td>\n",
       "    </tr>\n",
       "    <tr>\n",
       "      <th>4</th>\n",
       "      <td>Áccěntěd těxt</td>\n",
       "    </tr>\n",
       "    <tr>\n",
       "      <th>5</th>\n",
       "      <td>I have many stop words, so try and remove me t...</td>\n",
       "    </tr>\n",
       "    <tr>\n",
       "      <th>6</th>\n",
       "      <td>mu phone number is 1234567890</td>\n",
       "    </tr>\n",
       "    <tr>\n",
       "      <th>7</th>\n",
       "      <td>paris101 is the best</td>\n",
       "    </tr>\n",
       "    <tr>\n",
       "      <th>8</th>\n",
       "      <td>NaN</td>\n",
       "    </tr>\n",
       "  </tbody>\n",
       "</table>\n",
       "</div>"
      ],
      "text/plain": [
       "                                            examples\n",
       "0                              ALL UPPERCASE LETTERS\n",
       "1          @special #characters with punctuations! ?\n",
       "2                         having   multiple   spaces\n",
       "3                   <html>text under html tag</html>\n",
       "4                                      Áccěntěd těxt\n",
       "5  I have many stop words, so try and remove me t...\n",
       "6                      mu phone number is 1234567890\n",
       "7                               paris101 is the best\n",
       "8                                                NaN"
      ]
     },
     "execution_count": 7,
     "metadata": {},
     "output_type": "execute_result"
    }
   ],
   "source": [
    "data = {\"examples\": [\"ALL UPPERCASE LETTERS\", \"@special #characters with punctuations! ?\",\n",
    "                         \"having   multiple   spaces\", \"<html>text under html tag</html>\", \"Áccěntěd těxt\",\n",
    "                         \"I have many stop words, so try and remove me the a an is\",\n",
    "                         \"mu phone number is 1234567890\", \"paris101 is the best\", np.nan]}\n",
    "\n",
    "df = pd.DataFrame(data, columns=[\"examples\"])\n",
    "df"
   ]
  },
  {
   "cell_type": "code",
   "execution_count": 8,
   "metadata": {},
   "outputs": [
    {
     "name": "stdout",
     "output_type": "stream",
     "text": [
      "\u001b[1m\u001b[34mDataframe contains 9 rows and 1 columns\n",
      "\u001b[0m\n",
      "Dropping rows having [' ', 'NULL', numpy.nan] values\n",
      "\u001b[1m\u001b[31mTotal Null rows dropped: 1\n",
      "\u001b[0m\n",
      "Starting execution of 'lower' function, Please wait...\n",
      "\u001b[1m\u001b[34mFinished execution of 'lower' function in 0.001 secs\n",
      "\u001b[0m\n",
      "Starting execution of 'remove_numbers' function, Please wait...\n",
      "\u001b[1m\u001b[34mFinished execution of 'remove_numbers' function in 0.001 secs\n",
      "\u001b[0m\n",
      "Starting execution of 'remove_html_tags' function, Please wait...\n",
      "\u001b[1m\u001b[34mFinished execution of 'remove_html_tags' function in 0.004 secs\n",
      "\u001b[0m\n",
      "Starting execution of 'convert_accented_chars_to_normal' function, Please wait...\n",
      "\u001b[1m\u001b[34mFinished execution of 'convert_accented_chars_to_normal' function in 0.001 secs\n",
      "\u001b[0m\n",
      "Starting execution of 'remove_special_and_punctions' function, Please wait...\n",
      "\u001b[1m\u001b[34mFinished execution of 'remove_special_and_punctions' function in 0.001 secs\n",
      "\u001b[0m\n",
      "Starting execution of 'remove_stop_words' function, Please wait...\n",
      "\u001b[1m\u001b[34mFinished execution of 'remove_stop_words' function in 0.001 secs\n",
      "\u001b[0m\n",
      "Starting execution of 'remove_multiple_spaces' function, Please wait...\n",
      "\u001b[1m\u001b[34mFinished execution of 'remove_multiple_spaces' function in 0.001 secs\n",
      "\u001b[0m\n",
      "\u001b[1m\u001b[32m\n",
      "Purifying Completed!\n",
      "\u001b[0m\n"
     ]
    }
   ],
   "source": [
    "pure_df = NLAutoPurifier(df, target = \"examples\")"
   ]
  },
  {
   "cell_type": "code",
   "execution_count": 9,
   "metadata": {},
   "outputs": [
    {
     "data": {
      "text/html": [
       "<div>\n",
       "<style scoped>\n",
       "    .dataframe tbody tr th:only-of-type {\n",
       "        vertical-align: middle;\n",
       "    }\n",
       "\n",
       "    .dataframe tbody tr th {\n",
       "        vertical-align: top;\n",
       "    }\n",
       "\n",
       "    .dataframe thead th {\n",
       "        text-align: right;\n",
       "    }\n",
       "</style>\n",
       "<table border=\"1\" class=\"dataframe\">\n",
       "  <thead>\n",
       "    <tr style=\"text-align: right;\">\n",
       "      <th></th>\n",
       "      <th>original_examples</th>\n",
       "      <th>examples</th>\n",
       "    </tr>\n",
       "  </thead>\n",
       "  <tbody>\n",
       "    <tr>\n",
       "      <th>0</th>\n",
       "      <td>ALL UPPERCASE LETTERS</td>\n",
       "      <td>uppercase letters</td>\n",
       "    </tr>\n",
       "    <tr>\n",
       "      <th>1</th>\n",
       "      <td>@special #characters with punctuations! ?</td>\n",
       "      <td>special characters punctuations</td>\n",
       "    </tr>\n",
       "    <tr>\n",
       "      <th>2</th>\n",
       "      <td>having   multiple   spaces</td>\n",
       "      <td>having multiple spaces</td>\n",
       "    </tr>\n",
       "    <tr>\n",
       "      <th>3</th>\n",
       "      <td>&lt;html&gt;text under html tag&lt;/html&gt;</td>\n",
       "      <td>text html tag</td>\n",
       "    </tr>\n",
       "    <tr>\n",
       "      <th>4</th>\n",
       "      <td>Áccěntěd těxt</td>\n",
       "      <td>accented text</td>\n",
       "    </tr>\n",
       "    <tr>\n",
       "      <th>5</th>\n",
       "      <td>I have many stop words, so try and remove me t...</td>\n",
       "      <td>stop words try remove</td>\n",
       "    </tr>\n",
       "    <tr>\n",
       "      <th>6</th>\n",
       "      <td>mu phone number is 1234567890</td>\n",
       "      <td>mu phone number</td>\n",
       "    </tr>\n",
       "    <tr>\n",
       "      <th>7</th>\n",
       "      <td>paris101 is the best</td>\n",
       "      <td>paris best</td>\n",
       "    </tr>\n",
       "  </tbody>\n",
       "</table>\n",
       "</div>"
      ],
      "text/plain": [
       "                                   original_examples  \\\n",
       "0                              ALL UPPERCASE LETTERS   \n",
       "1          @special #characters with punctuations! ?   \n",
       "2                         having   multiple   spaces   \n",
       "3                   <html>text under html tag</html>   \n",
       "4                                      Áccěntěd těxt   \n",
       "5  I have many stop words, so try and remove me t...   \n",
       "6                      mu phone number is 1234567890   \n",
       "7                               paris101 is the best   \n",
       "\n",
       "                          examples  \n",
       "0                uppercase letters  \n",
       "1  special characters punctuations  \n",
       "2           having multiple spaces  \n",
       "3                    text html tag  \n",
       "4                    accented text  \n",
       "5            stop words try remove  \n",
       "6                  mu phone number  \n",
       "7                       paris best  "
      ]
     },
     "execution_count": 9,
     "metadata": {},
     "output_type": "execute_result"
    }
   ],
   "source": [
    "# pure_df = pure.df\n",
    "pure_df[\"original_examples\"] = df[\"examples\"]\n",
    "cols = pure_df.columns.tolist()\n",
    "cols = cols[-1:] + cols[:-1]\n",
    "pure_df = pure_df[cols]\n",
    "pure_df"
   ]
  },
  {
   "cell_type": "code",
   "execution_count": null,
   "metadata": {},
   "outputs": [],
   "source": []
  },
  {
   "cell_type": "code",
   "execution_count": null,
   "metadata": {},
   "outputs": [],
   "source": [
    "\n"
   ]
  },
  {
   "cell_type": "code",
   "execution_count": null,
   "metadata": {},
   "outputs": [],
   "source": []
  }
 ],
 "metadata": {
  "kernelspec": {
   "display_name": "tensor",
   "language": "python",
   "name": "tensor"
  },
  "language_info": {
   "codemirror_mode": {
    "name": "ipython",
    "version": 3
   },
   "file_extension": ".py",
   "mimetype": "text/x-python",
   "name": "python",
   "nbconvert_exporter": "python",
   "pygments_lexer": "ipython3",
   "version": "3.7.0"
  }
 },
 "nbformat": 4,
 "nbformat_minor": 4
}
