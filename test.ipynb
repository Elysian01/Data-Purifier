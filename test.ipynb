{
 "cells": [
  {
   "cell_type": "code",
   "execution_count": 1,
   "metadata": {},
   "outputs": [
    {
     "data": {
      "text/html": [
       "        <script type=\"text/javascript\">\n",
       "        window.PlotlyConfig = {MathJaxConfig: 'local'};\n",
       "        if (window.MathJax) {MathJax.Hub.Config({SVG: {font: \"STIX-Web\"}});}\n",
       "        if (typeof require !== 'undefined') {\n",
       "        require.undef(\"plotly\");\n",
       "        requirejs.config({\n",
       "            paths: {\n",
       "                'plotly': ['https://cdn.plot.ly/plotly-latest.min']\n",
       "            }\n",
       "        });\n",
       "        require(['plotly'], function(Plotly) {\n",
       "            window._Plotly = Plotly;\n",
       "        });\n",
       "        }\n",
       "        </script>\n",
       "        "
      ]
     },
     "metadata": {},
     "output_type": "display_data"
    },
    {
     "data": {
      "text/html": [
       "        <script type=\"text/javascript\">\n",
       "        window.PlotlyConfig = {MathJaxConfig: 'local'};\n",
       "        if (window.MathJax) {MathJax.Hub.Config({SVG: {font: \"STIX-Web\"}});}\n",
       "        if (typeof require !== 'undefined') {\n",
       "        require.undef(\"plotly\");\n",
       "        requirejs.config({\n",
       "            paths: {\n",
       "                'plotly': ['https://cdn.plot.ly/plotly-latest.min']\n",
       "            }\n",
       "        });\n",
       "        require(['plotly'], function(Plotly) {\n",
       "            window._Plotly = Plotly;\n",
       "        });\n",
       "        }\n",
       "        </script>\n",
       "        "
      ]
     },
     "metadata": {},
     "output_type": "display_data"
    }
   ],
   "source": [
    "from termcolor import colored\n",
    "import pandas as pd\n",
    "import numpy as np\n",
    "import seaborn as sns\n",
    "import matplotlib.pyplot as plt\n",
    "import ipywidgets as widgets\n",
    "import ipywidgets\n",
    "\n",
    "import datapurifier as dp\n",
    "from datapurifier import Mleda\n",
    "from datapurifier import Nlpeda\n",
    "from datapurifier import Nlpurifier\n",
    "\n",
    "%matplotlib inline\n",
    "# sns.set_theme(style=\"darkgrid\")"
   ]
  },
  {
   "cell_type": "code",
   "execution_count": null,
   "metadata": {},
   "outputs": [],
   "source": []
  },
  {
   "cell_type": "markdown",
   "metadata": {},
   "source": [
    "## Nlp EDA Testing"
   ]
  },
  {
   "cell_type": "code",
<<<<<<< HEAD
<<<<<<< HEAD
   "execution_count": 2,
=======
   "execution_count": 9,
>>>>>>> b3ba593... null values testing completed
=======
   "execution_count": 2,
>>>>>>> cad8818... distribution plot completed
   "metadata": {},
   "outputs": [
    {
     "data": {
      "text/html": [
       "<div>\n",
       "<style scoped>\n",
       "    .dataframe tbody tr th:only-of-type {\n",
       "        vertical-align: middle;\n",
       "    }\n",
       "\n",
       "    .dataframe tbody tr th {\n",
       "        vertical-align: top;\n",
       "    }\n",
       "\n",
       "    .dataframe thead th {\n",
       "        text-align: right;\n",
       "    }\n",
       "</style>\n",
       "<table border=\"1\" class=\"dataframe\">\n",
       "  <thead>\n",
       "    <tr style=\"text-align: right;\">\n",
       "      <th></th>\n",
       "      <th>review</th>\n",
       "      <th>rating</th>\n",
       "    </tr>\n",
       "  </thead>\n",
       "  <tbody>\n",
       "    <tr>\n",
       "      <th>0</th>\n",
       "      <td>Absolutely wonderful - silky and sexy and comf...</td>\n",
       "      <td>0</td>\n",
       "    </tr>\n",
       "    <tr>\n",
       "      <th>1</th>\n",
       "      <td>Love this dress!  it's sooo pretty.  i happene...</td>\n",
       "      <td>4</td>\n",
       "    </tr>\n",
       "    <tr>\n",
       "      <th>2</th>\n",
       "      <td>I had such high hopes for this dress and reall...</td>\n",
       "      <td>0</td>\n",
       "    </tr>\n",
       "    <tr>\n",
       "      <th>3</th>\n",
       "      <td>I love, love, love this jumpsuit. it's fun, fl...</td>\n",
       "      <td>0</td>\n",
       "    </tr>\n",
       "    <tr>\n",
       "      <th>4</th>\n",
       "      <td>This shirt is very flattering to all due to th...</td>\n",
       "      <td>6</td>\n",
       "    </tr>\n",
       "  </tbody>\n",
       "</table>\n",
       "</div>"
      ],
      "text/plain": [
       "                                              review  rating\n",
       "0  Absolutely wonderful - silky and sexy and comf...       0\n",
       "1  Love this dress!  it's sooo pretty.  i happene...       4\n",
       "2  I had such high hopes for this dress and reall...       0\n",
       "3  I love, love, love this jumpsuit. it's fun, fl...       0\n",
       "4  This shirt is very flattering to all due to th...       6"
      ]
     },
     "execution_count": 2,
     "metadata": {},
     "output_type": "execute_result"
    }
   ],
   "source": [
    "# nlp_df = pd.read_csv(\"datasets/twitter16m.csv\", header=None, encoding='latin-1')\n",
    "# nlp_df = nlp_df[[5,0]] # selecting only the tweets column and the sentiment\n",
    "# nlp_df.columns = [\"tweets\",\"sentiment\"]\n",
    "# nlp_df.head()\n",
    "\n",
    "nlp_df = pd.read_csv(\"datasets/womens_clothing_e-commerce_reviews.csv\")\n",
    "nlp_df = nlp_df[[\"Review Text\", \"Positive Feedback Count\"]]\n",
    "nlp_df.columns = [\"review\", \"rating\"]\n",
    "nlp_df.head()"
   ]
  },
  {
   "cell_type": "code",
   "execution_count": 3,
   "metadata": {},
   "outputs": [
    {
     "data": {
      "text/plain": [
       "review    845\n",
       "rating      0\n",
       "dtype: int64"
      ]
     },
     "execution_count": 3,
     "metadata": {},
     "output_type": "execute_result"
    }
   ],
   "source": [
    "nlp_df.isnull().sum()"
   ]
  },
  {
   "cell_type": "code",
   "execution_count": 4,
   "metadata": {
    "scrolled": false
   },
   "outputs": [
    {
     "name": "stdout",
     "output_type": "stream",
     "text": [
      "\u001b[1m\u001b[34mDataframe contains 23486 rows and 2 columns\n",
      "\u001b[0m\n",
      "\n",
      "Null Information of Dataframe: \n"
     ]
    },
    {
     "data": {
      "text/html": [
       "<div>\n",
       "<style scoped>\n",
       "    .dataframe tbody tr th:only-of-type {\n",
       "        vertical-align: middle;\n",
       "    }\n",
       "\n",
       "    .dataframe tbody tr th {\n",
       "        vertical-align: top;\n",
       "    }\n",
       "\n",
       "    .dataframe thead th {\n",
       "        text-align: right;\n",
       "    }\n",
       "</style>\n",
       "<table border=\"1\" class=\"dataframe\">\n",
       "  <thead>\n",
       "    <tr style=\"text-align: right;\">\n",
       "      <th></th>\n",
       "      <th>column_name</th>\n",
       "      <th>null_rows</th>\n",
       "      <th>null_percentage</th>\n",
       "    </tr>\n",
       "  </thead>\n",
       "  <tbody>\n",
       "    <tr>\n",
       "      <th>0</th>\n",
       "      <td>review</td>\n",
       "      <td>845</td>\n",
       "      <td>3.597888</td>\n",
       "    </tr>\n",
       "  </tbody>\n",
       "</table>\n",
       "</div>"
      ],
      "text/plain": [
       "  column_name  null_rows  null_percentage\n",
       "0      review        845         3.597888"
      ]
     },
     "metadata": {},
     "output_type": "display_data"
    },
    {
     "name": "stdout",
     "output_type": "stream",
     "text": [
      "Please select to 'drop all null rows', to continue analysis of data.\n"
     ]
    },
    {
     "data": {
      "application/vnd.jupyter.widget-view+json": {
       "model_id": "dff0bc9370fb41ebb4f5321139dc0177",
       "version_major": 2,
       "version_minor": 0
      },
      "text/plain": [
       "interactive(children=(Checkbox(value=False, description='Drop all null rows'), Output()), _dom_classes=('widge…"
      ]
     },
     "metadata": {},
     "output_type": "display_data"
    }
   ],
   "source": [
    "# eda = Nlpeda(nlp_df, \"tweets\", explore=\"basic\")\n",
    "eda = Nlpeda(nlp_df, \"review\", explore=\"advance\")"
   ]
  },
  {
   "cell_type": "code",
   "execution_count": null,
   "metadata": {},
   "outputs": [],
   "source": []
  },
  {
   "cell_type": "code",
   "execution_count": null,
   "metadata": {},
   "outputs": [],
   "source": []
  },
  {
   "cell_type": "code",
   "execution_count": null,
   "metadata": {},
   "outputs": [],
   "source": []
  },
  {
   "cell_type": "code",
   "execution_count": null,
   "metadata": {},
   "outputs": [],
   "source": [
    "eda.df"
   ]
  },
  {
   "cell_type": "code",
   "execution_count": null,
   "metadata": {},
   "outputs": [],
   "source": []
  },
  {
   "cell_type": "code",
   "execution_count": null,
   "metadata": {},
   "outputs": [],
   "source": []
  },
  {
   "cell_type": "code",
   "execution_count": null,
   "metadata": {},
   "outputs": [],
   "source": []
  },
  {
   "cell_type": "code",
   "execution_count": null,
   "metadata": {},
   "outputs": [],
   "source": []
  },
  {
   "cell_type": "code",
   "execution_count": null,
   "metadata": {},
   "outputs": [],
   "source": []
  },
  {
   "cell_type": "code",
   "execution_count": null,
   "metadata": {},
   "outputs": [],
   "source": []
  },
  {
   "cell_type": "code",
   "execution_count": null,
   "metadata": {},
   "outputs": [],
   "source": []
  },
  {
   "cell_type": "code",
   "execution_count": null,
   "metadata": {},
   "outputs": [],
   "source": [
    "data = { \"examples\": [\"ALL UPPERCASE LETTERS\",\"hi, i'd be happy with u\", \"hi my email is email@email.com\",\n",
    "                     \"hi my website is https://google.com\", \"@special #characters with punctuations! ?\",\n",
    "                     \"having   multiple   spaces\", \"<html>text under html tag</html>\", \"Áccěntěd těxt\",\n",
    "                     \"I have many stop words, so try and remove me\", \"base form example: run ran running runs\",\n",
    "                      np.nan, \"1234567890 is my number\", \"paris101 is the best\" ]} \n",
    "\n",
    "df = pd.DataFrame(data, columns = [\"examples\"])\n",
    "df"
   ]
  },
  {
   "cell_type": "code",
   "execution_count": null,
   "metadata": {
    "scrolled": true
   },
   "outputs": [],
   "source": [
    "# pure = Nlpurifier(nlp_df, \"tweets\")\n",
    "pure = Nlpurifier(df, \"examples\")"
   ]
  },
  {
   "cell_type": "code",
   "execution_count": null,
   "metadata": {},
   "outputs": [],
   "source": [
    "df"
   ]
  },
  {
   "cell_type": "code",
   "execution_count": null,
   "metadata": {
    "scrolled": true
   },
   "outputs": [],
   "source": [
    "pure_df = pure.df\n",
    "pure_df[\"original_examples\"] = df[\"examples\"]\n",
    "cols = pure_df.columns.tolist()\n",
    "cols = cols[-1:] + cols[:-1]\n",
    "pure_df = pure_df[cols]\n",
    "pure_df"
   ]
  },
  {
   "cell_type": "code",
   "execution_count": null,
   "metadata": {},
   "outputs": [],
   "source": []
  },
  {
   "cell_type": "code",
   "execution_count": null,
   "metadata": {},
   "outputs": [],
   "source": []
  },
  {
   "cell_type": "code",
   "execution_count": null,
   "metadata": {},
   "outputs": [],
   "source": []
  },
  {
   "cell_type": "markdown",
   "metadata": {},
   "source": [
    "## Test on real dataset"
   ]
  },
  {
   "cell_type": "code",
   "execution_count": null,
   "metadata": {},
   "outputs": [],
   "source": [
    "store_df = pd.read_csv(\"datasets/womens_clothing_e-commerce_reviews.csv\")\n",
    "store_df = store_df[[\"Review Text\", \"Positive Feedback Count\"]]\n",
    "store_df.columns = [\"review\", \"rating\"]\n",
    "store_df.head()"
   ]
  },
  {
   "cell_type": "code",
   "execution_count": null,
   "metadata": {},
   "outputs": [],
   "source": [
    "store_df.shape"
   ]
  },
  {
   "cell_type": "code",
   "execution_count": null,
   "metadata": {},
   "outputs": [],
   "source": [
    "store_df[\"review\"].isin([' ', 'NULL', np.nan]).sum()"
   ]
  },
  {
   "cell_type": "code",
   "execution_count": null,
   "metadata": {},
   "outputs": [],
   "source": [
    "store_df.dropna(inplace=True)\n",
    "store_df.reset_index(drop=True, inplace=True)\n",
    "store_df[\"review\"].isin([' ', 'NULL', np.nan]).sum()"
   ]
  },
  {
   "cell_type": "code",
   "execution_count": null,
   "metadata": {},
   "outputs": [],
   "source": [
    "store_df.shape"
   ]
  },
  {
   "cell_type": "code",
   "execution_count": null,
   "metadata": {},
   "outputs": [],
   "source": [
    "store_df.iloc[90:100,:]"
   ]
  },
  {
   "cell_type": "code",
   "execution_count": null,
   "metadata": {},
   "outputs": [],
   "source": [
    "store_df.reset_index[90:]"
   ]
  },
  {
   "cell_type": "code",
   "execution_count": null,
   "metadata": {},
   "outputs": [],
   "source": [
    "sns.get_dataset_names()"
   ]
  },
  {
   "cell_type": "code",
   "execution_count": null,
   "metadata": {},
   "outputs": [],
   "source": [
    "df = sns.load_dataset(\"iris\")\n",
    "df.head()"
   ]
  },
  {
   "cell_type": "code",
   "execution_count": null,
   "metadata": {},
   "outputs": [],
   "source": [
    "# Checking termcolor\n",
    "\n",
    "# print(colored(\"Hello World\", \"green\"))\n",
    "# print(colored(\"Hello World\", \"red\"))\n",
    "# print(colored(\"Hello World\", \"red\",attrs=['bold']))\n",
    "# print(colored(\"Hello World\", \"blue\"))"
   ]
  },
  {
   "cell_type": "code",
   "execution_count": null,
   "metadata": {},
   "outputs": [],
   "source": [
    "# df = pd.read_csv(\"./datasets/SampleSuperstore.csv\")\n",
    "# df = pd.read_csv(\"./datasets/iris.csv\")\n",
    "# df = pd.read_csv(\"./datasets/Bengaluru_House_Data.csv\")"
   ]
  },
  {
   "cell_type": "code",
   "execution_count": null,
   "metadata": {
    "scrolled": false
   },
   "outputs": [],
   "source": [
    "mleda = Mleda(df)\n",
    "mleda"
   ]
  },
  {
   "cell_type": "code",
   "execution_count": null,
   "metadata": {},
   "outputs": [],
   "source": [
    "# help(aa)\n",
    "# print(MLeda.__doc__)\n",
    "# print(help(MLeda))\n",
    "# print(dir(MLeda))\n"
   ]
  },
  {
   "cell_type": "code",
   "execution_count": null,
   "metadata": {},
   "outputs": [],
   "source": [
    "mleda.cat_cols"
   ]
  },
  {
   "cell_type": "code",
   "execution_count": null,
   "metadata": {},
   "outputs": [],
   "source": [
    "mleda.num_cols"
   ]
  },
  {
   "cell_type": "code",
   "execution_count": null,
   "metadata": {},
   "outputs": [],
   "source": [
    "# ae.sample(df)"
   ]
  },
  {
   "cell_type": "code",
   "execution_count": null,
   "metadata": {},
   "outputs": [],
   "source": [
    "# For value count\n",
    "# n = 10\n",
    "# for col in df.columns:\n",
    "#     print(df[col].value_counts().index.tolist()[:n])"
   ]
  },
  {
   "cell_type": "markdown",
   "metadata": {},
   "source": [
    "## Widget Testing"
   ]
  },
  {
   "cell_type": "code",
   "execution_count": null,
   "metadata": {},
   "outputs": [],
   "source": [
    "# Value Count Plot\n",
    "\n",
    "# columns = df.columns\n",
    "# column_dropdown = ipywidgets.Dropdown(options=columns,\n",
    "#                                 value=columns[0],\n",
    "#                                 description='Columns:',\n",
    "#                                 disabled=False)\n",
    "\n",
    "# top_columns = widgets.IntSlider(\n",
    "#     value=5,\n",
    "#     min=1,\n",
    "#     max=35,\n",
    "#     step=1,\n",
    "#     description='Top Columns:',\n",
    "#     disabled=False,\n",
    "#     continuous_update=True,\n",
    "#     orientation='horizontal',\n",
    "#     readout=True,\n",
    "#     readout_format='d'\n",
    "# )\n",
    "\n",
    "# items = [column_dropdown, top_columns]\n",
    "# value_count_ui = widgets.HBox(items)\n",
    "\n",
    "# def value_counts_plot(column, n):\n",
    "#     plt.figure(figsize=(10,5))\n",
    "#     sns.barplot(x = df[column].value_counts().index.tolist()[:n], y = df[column].value_counts().tolist()[:n])\n",
    "#     plt.xticks(rotation=75)\n",
    "#     plt.ylabel(\"count\")\n",
    "#     plt.xlabel(column)\n",
    "#     print(\"\\nTop Columns with most common values are: \")\n",
    "#     print(df[column].value_counts().index.tolist()[:n])\n",
    "\n",
    "# out = widgets.interactive_output(value_counts_plot, {'column': column_dropdown, 'n': top_columns})\n",
    "\n",
    "# display(value_count_ui, out)\n"
   ]
  },
  {
   "cell_type": "code",
   "execution_count": null,
   "metadata": {},
   "outputs": [],
   "source": [
    "# Pie Plot\n",
    "# cat_col = df.select_dtypes(include=\"O\").columns.tolist()\n",
    "\n",
    "# cat_column_dropdown = ipywidgets.Dropdown(options=cat_col,\n",
    "#                                 value=cat_col[0],\n",
    "#                                 description='Columns:',\n",
    "#                                 disabled=False)\n",
    "# def pie_plot(column):\n",
    "#     plt.figure(figsize=(10,5))\n",
    "#     df[column].value_counts().plot.pie(\n",
    "#             autopct=\"%1.1f%%\")\n",
    "\n",
    "# ipywidgets.interact(pie_plot, column=cat_column_dropdown);"
   ]
  },
  {
   "cell_type": "code",
   "execution_count": null,
   "metadata": {},
   "outputs": [],
   "source": [
    "# sns.pairplot(df, hue=\"Species\")"
   ]
  },
  {
   "cell_type": "code",
   "execution_count": null,
   "metadata": {},
   "outputs": [],
   "source": [
    "## Jointplot\n",
    "\n",
    "# col = df.columns\n",
    "# column_dropdown1 = ipywidgets.Dropdown(options=col,\n",
    "#                                 value=col[0],\n",
    "#                                 description='Columns:',\n",
    "#                                 disabled=False)\n",
    "\n",
    "# column_dropdown2 = ipywidgets.Dropdown(options=col,\n",
    "#                                 value=col[0],\n",
    "#                                 description='Columns:',\n",
    "#                                 disabled=False)\n",
    "\n",
    "# kind =  [\"scatter\",\"kde\",\"hist\",\"hex\",\"reg\",\"resid\"]\n",
    "\n",
    "# kind_dropdown = ipywidgets.Dropdown(options=kind,\n",
    "#                                 value=kind[0],\n",
    "#                                 description='Kind:',\n",
    "#                                 disabled=False)\n",
    "\n",
    "# items = [column_dropdown1, column_dropdown2, kind_dropdown]\n",
    "# joint_plot_ui = widgets.HBox(items)\n",
    "\n",
    "# def plot_joinplot(x,y,kind):\n",
    "#     sns.jointplot(x=x, y=y,kind=kind, data=df)\n",
    "\n",
    "# output = widgets.interactive_output(plot_joinplot, {'x': column_dropdown1, 'y': column_dropdown2, 'kind':kind_dropdown})\n",
    "\n",
    "# display(joint_plot_ui, output)"
   ]
  },
  {
   "cell_type": "code",
   "execution_count": null,
   "metadata": {},
   "outputs": [],
   "source": [
    "## Distribution plot\n",
    "numerics = ['int16', 'int32', 'int64', 'float16', 'float32', 'float64']\n",
    "num_col = df.select_dtypes(include=numerics).columns\n",
    "\n",
    "plt.figure(figsize=(16,14))\n",
    "for i, col in enumerate(num_col,1):\n",
    "    plt.subplot(3,3,i)\n",
    "    sns.distplot(df[col], norm_hist= False)"
   ]
  },
  {
   "cell_type": "code",
   "execution_count": null,
   "metadata": {},
   "outputs": [],
   "source": []
  }
 ],
 "metadata": {
  "kernelspec": {
   "display_name": "dp",
   "language": "python",
   "name": "dp"
  },
  "language_info": {
   "codemirror_mode": {
    "name": "ipython",
    "version": 3
   },
   "file_extension": ".py",
   "mimetype": "text/x-python",
   "name": "python",
   "nbconvert_exporter": "python",
   "pygments_lexer": "ipython3",
   "version": "3.7.0"
  }
 },
 "nbformat": 4,
 "nbformat_minor": 4
}
